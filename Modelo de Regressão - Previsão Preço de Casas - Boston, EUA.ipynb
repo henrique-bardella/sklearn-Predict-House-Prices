{
 "cells": [
  {
   "cell_type": "markdown",
   "metadata": {},
   "source": [
    " ## Modelo de Regressão - Previsão Preço de Casas - Boston, EUA"
   ]
  },
  {
   "cell_type": "markdown",
   "metadata": {},
   "source": [
    "## Problema de Negócio"
   ]
  },
  {
   "cell_type": "markdown",
   "metadata": {},
   "source": [
    "Criação de um modelo preditivo que seja capaz de prever o preço de casas com base nas características de diversas casas em um bairro de Boston, EUA"
   ]
  },
  {
   "cell_type": "markdown",
   "metadata": {},
   "source": [
    "### Descrição do dataset\n",
    "\n",
    "Nome: The Boston Housing Dataset\n",
    "\n",
    "Fonte: https://www.cs.toronto.edu/~delve/data/boston/bostonDetail.html\n",
    "\n",
    "Descrição: o dataset contem informações coletadas pelo U.S Census Service\n",
    "\n",
    "Input: Possui 14 atributos (em inglês)\n",
    "\n",
    " - 1.CRIM - per capita crime rate by town\n",
    " - 2.ZN - proportion of residential land zoned for lots over 25,000 sq.ft.\n",
    " - 3.INDUS - proportion of non-retail business acres per town.\n",
    " - 4.CHAS - Charles River dummy variable (1 if tract bounds river; 0 otherwise)\n",
    " - 5.NOX - nitric oxides concentration (parts per 10 million)\n",
    " - 6.RM - average number of rooms per dwelling\n",
    " - 7.AGE - proportion of owner-occupied units built prior to 1940\n",
    " - 8.DIS - weighted distances to five Boston employment centres\n",
    " - 9.RAD - index of accessibility to radial highways\n",
    " - 10.TAX - full-value property-tax rate per 10,000\n",
    " - 11.PTRATIO - pupil-teacher ratio by town\n",
    " - 12.B - 1000(Bk - 0.63)^2 where Bk is the proportion of blacks by town\n",
    " - 13.LSTAT - % lower status of the population\n",
    " - 14.MEDV - Median value of owner-occupied homes in 1000's\n",
    " \n",
    "Output: Valor númerico (Preço)\n",
    "###### - Tipo de aprendizagem: Regressão\n",
    "- Principais Métricas para algoritmos de regressão:\n",
    " - Mean Squared Error (MSE)\n",
    " - Root Mean Squared Error (RMSE)\n",
    " - Mean Absolute Error (MAE)\n",
    " - R Squared (R²)\n",
    " - Adjusted R Squared (R²)\n",
    " - Mean Square Percentage Error (MSPE)\n",
    " - Mean Absolute Percentage Error (MAPE)\n",
    " - Root Mean Squared Logarithmic Error (RMSLE)"
   ]
  },
  {
   "cell_type": "code",
   "execution_count": 5,
   "metadata": {},
   "outputs": [
    {
     "name": "stdout",
     "output_type": "stream",
     "text": [
      "O MSE do modelo é: 28.53045876597469\n"
     ]
    }
   ],
   "source": [
    "#Mean Squared Error (MSE)\n",
    "\n",
    "# Import dos módulos\n",
    "from pandas import read_csv\n",
    "from sklearn.model_selection import train_test_split\n",
    "from sklearn.metrics import mean_squared_error\n",
    "from sklearn.linear_model import LinearRegression\n",
    "\n",
    "# Carregando os dados\n",
    "arquivo = 'data/boston-houses.csv'\n",
    "colunas = ['CRIM', 'ZN', 'INDUS', 'CHAS', 'NOX', 'RM', 'AGE', 'DIS', 'RAD', 'TAX', 'PTRATIO','B', 'LSTAT', 'MEDV']\n",
    "dados = read_csv(arquivo, delim_whitespace = True, names = colunas)\n",
    "array = dados.values\n",
    "\n",
    "# Separando o array em componentes de input e output\n",
    "X = array[:,0:13]\n",
    "Y = array[:,13]\n",
    "\n",
    "# Divide os dados em treino e teste\n",
    "X_train, X_test, Y_train, Y_test = train_test_split(X, Y, test_size = 0.33, random_state = 5)\n",
    "\n",
    "# Criando o modelo\n",
    "modelo = LinearRegression()\n",
    "\n",
    "# Treinando o modelo\n",
    "modelo.fit(X_train, Y_train)\n",
    "\n",
    "# Fazendo previsões\n",
    "Y_pred = modelo.predict(X_test)\n",
    "\n",
    "# Resultado\n",
    "mse = mean_squared_error(Y_test, Y_pred)\n",
    "print(\"O MSE do modelo é:\", mse)\n"
   ]
  },
  {
   "cell_type": "code",
   "execution_count": 6,
   "metadata": {},
   "outputs": [
    {
     "name": "stdout",
     "output_type": "stream",
     "text": [
      "O MAE do modelo é: 3.455034932248351\n"
     ]
    }
   ],
   "source": [
    "# Mean Absolute Error\n",
    "\n",
    "# Import dos módulos\n",
    "from pandas import read_csv\n",
    "from sklearn.model_selection import train_test_split\n",
    "from sklearn.metrics import mean_absolute_error\n",
    "from sklearn.linear_model import LinearRegression\n",
    "\n",
    "# Carregando os dados\n",
    "arquivo = 'data/boston-houses.csv'\n",
    "colunas = ['CRIM', 'ZN', 'INDUS', 'CHAS', 'NOX', 'RM', 'AGE', 'DIS', 'RAD', 'TAX', 'PTRATIO','B', 'LSTAT', 'MEDV']\n",
    "dados = read_csv(arquivo, delim_whitespace = True, names = colunas)\n",
    "array = dados.values\n",
    "\n",
    "# Separando o array em componentes de input e output\n",
    "X = array[:,0:13]\n",
    "Y = array[:,13]\n",
    "\n",
    "# Divide os dados em treino e teste\n",
    "X_train, X_test, Y_train, Y_test = train_test_split(X, Y, test_size = 0.33, random_state = 5)\n",
    "\n",
    "# Criando o modelo\n",
    "modelo = LinearRegression()\n",
    "\n",
    "# Treinando o modelo\n",
    "modelo.fit(X_train, Y_train)\n",
    "\n",
    "# Fazendo previsões\n",
    "Y_pred = modelo.predict(X_test)\n",
    "\n",
    "# Resultado\n",
    "mae = mean_absolute_error(Y_test, Y_pred)\n",
    "print(\"O MAE do modelo é:\", mae)"
   ]
  },
  {
   "cell_type": "code",
   "execution_count": 7,
   "metadata": {},
   "outputs": [
    {
     "name": "stdout",
     "output_type": "stream",
     "text": [
      "O R2 do modelo é: 0.6956551656111596\n"
     ]
    }
   ],
   "source": [
    "# R^2\n",
    "# Essa métrica fornece uma indicação do nível de precisão das previsões em relação aos valores observados.\n",
    "# Também chamado de coeficiente de determinação.\n",
    "# Valores entre 0 e 1, sendo 0 o valor ideal.\n",
    "\n",
    "# Import dos módulos\n",
    "from pandas import read_csv\n",
    "from sklearn.model_selection import train_test_split\n",
    "from sklearn.metrics import r2_score\n",
    "from sklearn.linear_model import LinearRegression\n",
    "\n",
    "# Carregando os dados\n",
    "arquivo = 'data/boston-houses.csv'\n",
    "colunas = ['CRIM', 'ZN', 'INDUS', 'CHAS', 'NOX', 'RM', 'AGE', 'DIS', 'RAD', 'TAX', 'PTRATIO','B', 'LSTAT', 'MEDV']\n",
    "dados = read_csv(arquivo, delim_whitespace = True, names = colunas)\n",
    "array = dados.values\n",
    "\n",
    "# Separando o array em componentes de input e output\n",
    "X = array[:,0:13]\n",
    "Y = array[:,13]\n",
    "\n",
    "# Divide os dados em treino e teste\n",
    "X_train, X_test, Y_train, Y_test = train_test_split(X, Y, test_size = 0.33, random_state = 5)\n",
    "\n",
    "# Criando o modelo\n",
    "modelo = LinearRegression()\n",
    "\n",
    "# Treinando o modelo\n",
    "modelo.fit(X_train, Y_train)\n",
    "\n",
    "# Fazendo previsões\n",
    "Y_pred = modelo.predict(X_test)\n",
    "\n",
    "# Resultado\n",
    "r2 = r2_score(Y_test, Y_pred)\n",
    "print(\"O R2 do modelo é:\", r2)"
   ]
  },
  {
   "cell_type": "markdown",
   "metadata": {},
   "source": [
    "## Algoritmos de Regressão"
   ]
  },
  {
   "cell_type": "markdown",
   "metadata": {},
   "source": [
    "-  Regressão Linear: Melhor modelo para dados não pré-processados\n",
    "-  Lasso: Extensão para a regressão linear onde a loss function é modificada para minimizar a complexidade do modelo\n",
    "\n"
   ]
  },
  {
   "cell_type": "code",
   "execution_count": 20,
   "metadata": {},
   "outputs": [
    {
     "name": "stdout",
     "output_type": "stream",
     "text": [
      "O MSE com LR do modelo é:  28.53045876597469\n",
      "O MSE com Ridge do modelo é:  29.29406201348503\n"
     ]
    }
   ],
   "source": [
    "#Import dos Módulos\n",
    "from pandas import read_csv\n",
    "from sklearn.model_selection import train_test_split\n",
    "from sklearn.metrics import mean_squared_error\n",
    "from sklearn.linear_model import LinearRegression\n",
    "from sklearn.linear_model import Ridge\n",
    "from sklearn.linear_model import Lasso\n",
    "\n",
    "#Carregando os dados\n",
    "arquivo = 'data/boston-houses.csv'\n",
    "colunas = ['CRIM', 'ZN', 'INDUS', 'CHAS', 'NOX', 'RM', 'AGE', 'DIS', 'RAD', 'TAX', 'PTRATIO', 'B', 'LSTAT', 'MEDV']\n",
    "dados = read_csv(arquivo, delim_whitespace = True, names = colunas)\n",
    "array = dados.values\n",
    "\n",
    "#Separando o array em componentes de input e output\n",
    "X = array[:,0:13]\n",
    "Y = array[:,13]\n",
    "\n",
    "#Devidindo os dados em treino e teste\n",
    "X_train, X_test, Y_train, Y_test = train_test_split(X, Y, test_size = 0.33, random_state = 5)\n",
    "\n",
    "#Criando os modelos\n",
    "modelo_lr = LinearRegression()\n",
    "modelo_ridge = Ridge()\n",
    "\n",
    "#Treinando o modelo\n",
    "modelo_lr.fit(X_train, Y_train)\n",
    "modelo_ridge.fit(X_train, Y_train)\n",
    "\n",
    "#Fazendo previsões\n",
    "Y_pred_lr = modelo_lr.predict(X_test)\n",
    "Y_pred_ridge = modelo_ridge.predict(X_test)\n",
    "\n",
    "#Resultados\n",
    "mse_lr = mean_squared_error(Y_test, Y_pred_lr)\n",
    "mse_ridge = mean_squared_error(Y_test, Y_pred_ridge)\n",
    "\n",
    "print(\"O MSE com LR do modelo é: \", mse_lr)\n",
    "print(\"O MSE com Ridge do modelo é: \", mse_ridge)\n"
   ]
  },
  {
   "cell_type": "markdown",
   "metadata": {},
   "source": [
    "### Otimização do Modelo"
   ]
  },
  {
   "cell_type": "code",
   "execution_count": 22,
   "metadata": {},
   "outputs": [
    {
     "name": "stdout",
     "output_type": "stream",
     "text": [
      "Melhores Parâmetros do Modelo:\n",
      " Ridge(alpha=0.9779895119966027)\n"
     ]
    }
   ],
   "source": [
    "# Random Search Parameter Tuning\n",
    "\n",
    "# Import dos módulos\n",
    "from pandas import read_csv\n",
    "import numpy as np\n",
    "from scipy.stats import uniform\n",
    "from sklearn.linear_model import Ridge\n",
    "from sklearn.model_selection import RandomizedSearchCV\n",
    "\n",
    "# Carregando os dados\n",
    "arquivo = 'data/boston-houses.csv'\n",
    "colunas = ['CRIM', 'ZN', 'INDUS', 'CHAS', 'NOX', 'RM', 'AGE', 'DIS', 'RAD', 'TAX', 'PTRATIO','B', 'LSTAT', 'MEDV']\n",
    "dados = read_csv(arquivo, delim_whitespace = True, names = colunas)\n",
    "array = dados.values\n",
    "\n",
    "# Separando o array em componentes de input e output\n",
    "X = array[:,0:8]\n",
    "Y = array[:,8]\n",
    "\n",
    "# Definindo os valores que serão testados\n",
    "valores_grid = {'alpha': uniform()}\n",
    "seed = 7\n",
    "\n",
    "# Criando o modelo\n",
    "modelo = Ridge()\n",
    "iterations = 100\n",
    "rsearch = RandomizedSearchCV(estimator = modelo, \n",
    "                             param_distributions = valores_grid, \n",
    "                             n_iter = iterations, \n",
    "                             random_state = seed)\n",
    "rsearch.fit(X, Y)\n",
    "\n",
    "# Print do resultado\n",
    "print(\"Melhores Parâmetros do Modelo:\\n\", rsearch.best_estimator_)"
   ]
  },
  {
   "cell_type": "markdown",
   "metadata": {},
   "source": [
    "### Salvando o trabalho final"
   ]
  },
  {
   "cell_type": "code",
   "execution_count": 25,
   "metadata": {},
   "outputs": [
    {
     "name": "stdout",
     "output_type": "stream",
     "text": [
      "Modelo salvo!\n",
      "Modelo carregado!\n",
      "O MSE do modelo é: 27.323167137174885\n"
     ]
    }
   ],
   "source": [
    "# Import dos módulos\n",
    "from pandas import read_csv\n",
    "from sklearn.model_selection import train_test_split\n",
    "from sklearn.metrics import mean_squared_error\n",
    "from sklearn.linear_model import Ridge\n",
    "import pickle\n",
    "\n",
    "# Carregando os dados\n",
    "arquivo = 'data/boston-houses.csv'\n",
    "colunas = ['CRIM', 'ZN', 'INDUS', 'CHAS', 'NOX', 'RM', 'AGE', 'DIS', 'RAD', 'TAX', 'PTRATIO','B', 'LSTAT', 'MEDV']\n",
    "dados = read_csv(arquivo, delim_whitespace = True, names = colunas)\n",
    "array = dados.values\n",
    "\n",
    "# Separando o array em componentes de input e output\n",
    "X = array[:,0:13]\n",
    "Y = array[:,13]\n",
    "\n",
    "# Definindo os valores para o número de folds\n",
    "teste_size = 0.35\n",
    "seed = 7\n",
    "\n",
    "# Criando o dataset de treino e de teste\n",
    "X_treino, X_teste, Y_treino, Y_teste = train_test_split(X, Y, test_size = teste_size, random_state = seed)\n",
    "\n",
    "# Criando o modelo\n",
    "modelo = Ridge()\n",
    "\n",
    "# Treinando o modelo\n",
    "modelo.fit(X_treino, Y_treino)\n",
    "\n",
    "# Salvando o modelo\n",
    "arquivo = 'modelos/modelo_regressor_final.sav'\n",
    "pickle.dump(modelo, open(arquivo, 'wb'))\n",
    "print(\"Modelo salvo!\")\n",
    "\n",
    "# Carregando o arquivo\n",
    "modelo_regressor_final = pickle.load(open(arquivo, 'rb'))\n",
    "print(\"Modelo carregado!\")\n",
    "\n",
    "# Print do resultado\n",
    "# Fazendo previsões\n",
    "Y_pred = modelo_regressor_final.predict(X_test)\n",
    "\n",
    "# Resultado\n",
    "mse = mean_squared_error(Y_test, Y_pred)\n",
    "print(\"O MSE do modelo é:\", mse)"
   ]
  },
  {
   "cell_type": "code",
   "execution_count": null,
   "metadata": {},
   "outputs": [],
   "source": []
  }
 ],
 "metadata": {
  "kernelspec": {
   "display_name": "Python 3",
   "language": "python",
   "name": "python3"
  },
  "language_info": {
   "codemirror_mode": {
    "name": "ipython",
    "version": 3
   },
   "file_extension": ".py",
   "mimetype": "text/x-python",
   "name": "python",
   "nbconvert_exporter": "python",
   "pygments_lexer": "ipython3",
   "version": "3.8.5"
  }
 },
 "nbformat": 4,
 "nbformat_minor": 4
}
